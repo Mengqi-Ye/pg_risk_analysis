{
 "cells": [
  {
   "cell_type": "code",
   "execution_count": 4,
   "id": "4f02100e-6cec-4b97-833c-7b37f2ec0b46",
   "metadata": {
    "tags": []
   },
   "outputs": [],
   "source": [
    "import os,sys\n",
    "import pandas as pd\n",
    "import glob"
   ]
  },
  {
   "cell_type": "code",
   "execution_count": 2,
   "id": "17103930-1319-4c0d-b9c3-5baf4960603b",
   "metadata": {
    "tags": []
   },
   "outputs": [],
   "source": [
    "result_path = os.path.join('C:\\\\','projects','pg_risk_analysis_output','output','output_without_scaling')\n",
    "risk_path = os.path.join(result_path,'risk')\n",
    "process_result_path = os.path.join(result_path,'process_results_without_scale')\n",
    "china_points_path = os.path.join(result_path,'process_results_without_scale','china_points_without_scale')"
   ]
  },
  {
   "cell_type": "code",
   "execution_count": 8,
   "id": "79e59241-10b6-4b85-aaa7-dcc565e8e492",
   "metadata": {
    "tags": []
   },
   "outputs": [],
   "source": [
    "# Combine china_points\n",
    "\n",
    "import glob\n",
    "import xlsxwriter\n",
    "\n",
    "file_paths = glob.glob(os.path.join(china_points_path,\"CHN_osm_tc_*_points_risk_*.xlsx\"))\n",
    "\n",
    "# 定义一个函数来处理单个Excel文件\n",
    "def process_excel(file_path):\n",
    "    # 从文件名中提取climate_model和i的值\n",
    "    file_name = os.path.basename(file_path)\n",
    "    climate_model = file_name.split(\"_\")[3]\n",
    "    i = file_name.split(\"_\")[-1].split(\".\")[0]\n",
    "    \n",
    "    # 读取Excel文件\n",
    "    xls = pd.ExcelFile(file_path)\n",
    "    \n",
    "    # 循环处理每个sheet\n",
    "    for sheet_name in ['tower_risk', 'pole_risk']:\n",
    "        # 读取sheet数据，跳过第一行和第一列\n",
    "        df = pd.read_excel(xls, sheet_name, index_col=0) #skiprows=1, \n",
    "                \n",
    "        # 计算每个对应单元格的总和\n",
    "        df_sum = df.applymap(lambda x: sum(map(int, str(x).split(','))) if isinstance(x, str) else x)\n",
    "        \n",
    "        # 构造要保存的文件名\n",
    "        new_file_path = os.path.join(process_result_path, 'CHN_osm_tc_{}_{}.xlsx'.format(climate_model,sheet_name))\n",
    "        \n",
    "        #df_sum.to_excel(new_file_path, index=True, header=True)  # 保留原始的行索引，不写入新的header\n",
    "                \n",
    "        with pd.ExcelWriter(new_file_path, engine='xlsxwriter') as writer:\n",
    "            df_sum.to_excel(writer, index=True, header=True, sheet_name=sheet_name)\n",
    "\n",
    "\n",
    "# 循环处理每个Excel文件\n",
    "for file_path in file_paths:\n",
    "    process_excel(file_path)\n"
   ]
  },
  {
   "cell_type": "code",
   "execution_count": null,
   "id": "40499d2b-a6bf-4082-93f0-9388d6d9ba1e",
   "metadata": {},
   "outputs": [],
   "source": []
  }
 ],
 "metadata": {
  "kernelspec": {
   "display_name": "Python 3 (ipykernel)",
   "language": "python",
   "name": "python3"
  },
  "language_info": {
   "codemirror_mode": {
    "name": "ipython",
    "version": 3
   },
   "file_extension": ".py",
   "mimetype": "text/x-python",
   "name": "python",
   "nbconvert_exporter": "python",
   "pygments_lexer": "ipython3",
   "version": "3.10.10"
  }
 },
 "nbformat": 4,
 "nbformat_minor": 5
}
