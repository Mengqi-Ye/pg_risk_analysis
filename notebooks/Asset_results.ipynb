{
 "cells": [
  {
   "cell_type": "code",
   "execution_count": 7,
   "id": "dcecd191-2ee5-4f3b-957c-e320ff551a4e",
   "metadata": {},
   "outputs": [],
   "source": [
    "import os\n",
    "import pandas as pd"
   ]
  },
  {
   "cell_type": "code",
   "execution_count": 8,
   "id": "4738ae84-7492-48c0-95f4-0e9e56ee204a",
   "metadata": {},
   "outputs": [],
   "source": [
    "output_path = '..\\\\output'"
   ]
  },
  {
   "cell_type": "code",
   "execution_count": 9,
   "id": "a708c84d-20b0-447a-923d-b4d1a564b5b1",
   "metadata": {},
   "outputs": [
    {
     "data": {
      "text/plain": [
       "['damage', 'risk']"
      ]
     },
     "execution_count": 9,
     "metadata": {},
     "output_type": "execute_result"
    }
   ],
   "source": [
    "os.listdir(output_path)"
   ]
  },
  {
   "cell_type": "code",
   "execution_count": 10,
   "id": "e97b1990-a37d-45a2-a1a6-6e1815a2a966",
   "metadata": {},
   "outputs": [],
   "source": [
    "risk_path = os.path.join(output_path,'risk')"
   ]
  },
  {
   "cell_type": "code",
   "execution_count": 44,
   "id": "86b0553a-b035-44cd-9c73-6da7a743a55c",
   "metadata": {},
   "outputs": [],
   "source": [
    "dict = {}\n",
    "for risk_result in os.listdir(risk_path):\n",
    "    for climate_model in ['_CMCC-CM2-VHR4','_CNRM-CM6-1-HR','_EC-Earth3P-HR','_HadGEM3-GC31-HM']: #''\n",
    "        if ('tc' in result) & ('osm' in result) & (climate_model in risk_result):\n",
    "            out = pd.read_excel(os.path.join(risk_path,risk_result))"
   ]
  },
  {
   "cell_type": "code",
   "execution_count": 45,
   "id": "3a21ade5-0547-447d-aad9-99354db31df2",
   "metadata": {},
   "outputs": [
    {
     "data": {
      "text/html": [
       "<div>\n",
       "<style scoped>\n",
       "    .dataframe tbody tr th:only-of-type {\n",
       "        vertical-align: middle;\n",
       "    }\n",
       "\n",
       "    .dataframe tbody tr th {\n",
       "        vertical-align: top;\n",
       "    }\n",
       "\n",
       "    .dataframe thead th {\n",
       "        text-align: right;\n",
       "    }\n",
       "</style>\n",
       "<table border=\"1\" class=\"dataframe\">\n",
       "  <thead>\n",
       "    <tr style=\"text-align: right;\">\n",
       "      <th></th>\n",
       "      <th>Unnamed: 0</th>\n",
       "      <th>W5_1</th>\n",
       "      <th>W5_2</th>\n",
       "      <th>W5_3</th>\n",
       "    </tr>\n",
       "  </thead>\n",
       "  <tbody>\n",
       "    <tr>\n",
       "      <th>0</th>\n",
       "      <td>mean_risk</td>\n",
       "      <td>4.430902e+07</td>\n",
       "      <td>5.314789e+07</td>\n",
       "      <td>4.764292e+07</td>\n",
       "    </tr>\n",
       "    <tr>\n",
       "      <th>1</th>\n",
       "      <td>lower_risk</td>\n",
       "      <td>3.323177e+07</td>\n",
       "      <td>3.986092e+07</td>\n",
       "      <td>3.573219e+07</td>\n",
       "    </tr>\n",
       "    <tr>\n",
       "      <th>2</th>\n",
       "      <td>upper_risk</td>\n",
       "      <td>5.538628e+07</td>\n",
       "      <td>6.643487e+07</td>\n",
       "      <td>5.955365e+07</td>\n",
       "    </tr>\n",
       "  </tbody>\n",
       "</table>\n",
       "</div>"
      ],
      "text/plain": [
       "   Unnamed: 0          W5_1          W5_2          W5_3\n",
       "0   mean_risk  4.430902e+07  5.314789e+07  4.764292e+07\n",
       "1  lower_risk  3.323177e+07  3.986092e+07  3.573219e+07\n",
       "2  upper_risk  5.538628e+07  6.643487e+07  5.955365e+07"
      ]
     },
     "execution_count": 45,
     "metadata": {},
     "output_type": "execute_result"
    }
   ],
   "source": [
    "out"
   ]
  },
  {
   "cell_type": "code",
   "execution_count": 22,
   "id": "aee6b4ea-e2d4-4b84-bd81-2268cd9108f4",
   "metadata": {},
   "outputs": [
    {
     "data": {
      "text/plain": [
       "'..\\\\output\\\\risk\\\\JPN_gov_tc_risk.xlsx'"
      ]
     },
     "execution_count": 22,
     "metadata": {},
     "output_type": "execute_result"
    }
   ],
   "source": [
    "os.path.join(risk_path,result)"
   ]
  },
  {
   "cell_type": "code",
   "execution_count": null,
   "id": "95334a4b-cc79-42bb-b853-9e79dbc0b6da",
   "metadata": {},
   "outputs": [],
   "source": []
  }
 ],
 "metadata": {
  "kernelspec": {
   "display_name": "Python 3 (ipykernel)",
   "language": "python",
   "name": "python3"
  },
  "language_info": {
   "codemirror_mode": {
    "name": "ipython",
    "version": 3
   },
   "file_extension": ".py",
   "mimetype": "text/x-python",
   "name": "python",
   "nbconvert_exporter": "python",
   "pygments_lexer": "ipython3",
   "version": "3.10.6"
  }
 },
 "nbformat": 4,
 "nbformat_minor": 5
}
